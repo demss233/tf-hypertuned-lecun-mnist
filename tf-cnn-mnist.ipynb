{
 "cells": [
  {
   "cell_type": "code",
   "execution_count": 1,
   "id": "16e88794",
   "metadata": {
    "_cell_guid": "37a9908b-9dbe-4a46-ba6d-f3e739b6f135",
    "_uuid": "9ed008ec-d77e-4611-9c12-c1e49d77d831",
    "collapsed": false,
    "execution": {
     "iopub.execute_input": "2025-09-21T21:35:55.060044Z",
     "iopub.status.busy": "2025-09-21T21:35:55.059796Z",
     "iopub.status.idle": "2025-09-21T21:36:12.297397Z",
     "shell.execute_reply": "2025-09-21T21:36:12.296832Z"
    },
    "jupyter": {
     "outputs_hidden": false
    },
    "papermill": {
     "duration": 17.243166,
     "end_time": "2025-09-21T21:36:12.298767",
     "exception": false,
     "start_time": "2025-09-21T21:35:55.055601",
     "status": "completed"
    },
    "tags": []
   },
   "outputs": [
    {
     "name": "stderr",
     "output_type": "stream",
     "text": [
      "2025-09-21 21:35:58.940296: E external/local_xla/xla/stream_executor/cuda/cuda_fft.cc:477] Unable to register cuFFT factory: Attempting to register factory for plugin cuFFT when one has already been registered\n",
      "WARNING: All log messages before absl::InitializeLog() is called are written to STDERR\n",
      "E0000 00:00:1758490559.197681      19 cuda_dnn.cc:8310] Unable to register cuDNN factory: Attempting to register factory for plugin cuDNN when one has already been registered\n",
      "E0000 00:00:1758490559.278240      19 cuda_blas.cc:1418] Unable to register cuBLAS factory: Attempting to register factory for plugin cuBLAS when one has already been registered\n"
     ]
    }
   ],
   "source": [
    "import warnings\n",
    "\n",
    "import numpy as np\n",
    "import pandas as pd\n",
    "from tqdm.auto import tqdm\n",
    "\n",
    "import tensorflow as tf\n",
    "from tensorflow import keras\n",
    "from keras.callbacks import ReduceLROnPlateau\n",
    "from keras.layers import BatchNormalization, Conv2D, Dense, Dropout, Flatten, MaxPool2D\n",
    "from keras.models import Sequential\n",
    "from keras.optimizers import RMSprop\n",
    "\n",
    "seed = 42\n",
    "\n",
    "import warnings\n",
    "warnings.filterwarnings(\"ignore\")"
   ]
  },
  {
   "cell_type": "code",
   "execution_count": 2,
   "id": "117c9e6f",
   "metadata": {
    "execution": {
     "iopub.execute_input": "2025-09-21T21:36:12.305527Z",
     "iopub.status.busy": "2025-09-21T21:36:12.305105Z",
     "iopub.status.idle": "2025-09-21T21:36:13.178454Z",
     "shell.execute_reply": "2025-09-21T21:36:13.177746Z"
    },
    "papermill": {
     "duration": 0.87774,
     "end_time": "2025-09-21T21:36:13.179644",
     "exception": false,
     "start_time": "2025-09-21T21:36:12.301904",
     "status": "completed"
    },
    "tags": []
   },
   "outputs": [
    {
     "name": "stdout",
     "output_type": "stream",
     "text": [
      "[PhysicalDevice(name='/physical_device:GPU:0', device_type='GPU'), PhysicalDevice(name='/physical_device:GPU:1', device_type='GPU')]\n"
     ]
    }
   ],
   "source": [
    "root = '/kaggle/input/digit-recognizer/'\n",
    "print(tf.config.list_physical_devices(\"GPU\"))"
   ]
  },
  {
   "cell_type": "code",
   "execution_count": 3,
   "id": "462b2ccd",
   "metadata": {
    "_cell_guid": "95130008-d5d2-437f-b399-a47bde0c249b",
    "_uuid": "f7227544-4db7-4b5a-b98c-7dfe2c5302d5",
    "collapsed": false,
    "execution": {
     "iopub.execute_input": "2025-09-21T21:36:13.186444Z",
     "iopub.status.busy": "2025-09-21T21:36:13.186193Z",
     "iopub.status.idle": "2025-09-21T21:36:17.489929Z",
     "shell.execute_reply": "2025-09-21T21:36:17.489247Z"
    },
    "jupyter": {
     "outputs_hidden": false
    },
    "papermill": {
     "duration": 4.308645,
     "end_time": "2025-09-21T21:36:17.491450",
     "exception": false,
     "start_time": "2025-09-21T21:36:13.182805",
     "status": "completed"
    },
    "tags": []
   },
   "outputs": [],
   "source": [
    "train_df = pd.read_csv(root + 'train.csv')\n",
    "test_df = pd.read_csv(root + 'test.csv')"
   ]
  },
  {
   "cell_type": "code",
   "execution_count": 4,
   "id": "431cc490",
   "metadata": {
    "_cell_guid": "59004864-a839-46e9-859d-1fec29185d06",
    "_uuid": "e364c318-a977-4eb1-88f5-292817a28d19",
    "collapsed": false,
    "execution": {
     "iopub.execute_input": "2025-09-21T21:36:17.498758Z",
     "iopub.status.busy": "2025-09-21T21:36:17.498503Z",
     "iopub.status.idle": "2025-09-21T21:36:17.506085Z",
     "shell.execute_reply": "2025-09-21T21:36:17.505403Z"
    },
    "jupyter": {
     "outputs_hidden": false
    },
    "papermill": {
     "duration": 0.012535,
     "end_time": "2025-09-21T21:36:17.507219",
     "exception": false,
     "start_time": "2025-09-21T21:36:17.494684",
     "status": "completed"
    },
    "tags": []
   },
   "outputs": [
    {
     "data": {
      "text/plain": [
       "255"
      ]
     },
     "execution_count": 4,
     "metadata": {},
     "output_type": "execute_result"
    }
   ],
   "source": [
    "X = train_df.iloc[:, 1:]\n",
    "y = train_df.iloc[:, 0]\n",
    "X.iloc[0][133]"
   ]
  },
  {
   "cell_type": "code",
   "execution_count": 5,
   "id": "fde9865b",
   "metadata": {
    "_cell_guid": "11771959-272e-44d9-8220-66373892db3e",
    "_uuid": "ce843f8b-5780-4ba9-943e-5ee974b3a628",
    "collapsed": false,
    "execution": {
     "iopub.execute_input": "2025-09-21T21:36:17.513411Z",
     "iopub.status.busy": "2025-09-21T21:36:17.513216Z",
     "iopub.status.idle": "2025-09-21T21:36:17.971636Z",
     "shell.execute_reply": "2025-09-21T21:36:17.970830Z"
    },
    "jupyter": {
     "outputs_hidden": false
    },
    "papermill": {
     "duration": 0.463142,
     "end_time": "2025-09-21T21:36:17.973198",
     "exception": false,
     "start_time": "2025-09-21T21:36:17.510056",
     "status": "completed"
    },
    "tags": []
   },
   "outputs": [],
   "source": [
    "from sklearn.model_selection import train_test_split\n",
    "\n",
    "X_train, X_test, y_train, y_test = train_test_split(\n",
    "    X, y, test_size = 0.2, random_state = seed\n",
    ")\n",
    "\n",
    "X_train = X_train.values.reshape(-1, 28, 28) / 255.0\n",
    "X_test = X_test.values.reshape(-1, 28, 28) / 255.0\n",
    "\n",
    "y_train = y_train.values\n",
    "X_train = np.expand_dims(X_train, axis = -1)\n",
    "y_test = y_test.values"
   ]
  },
  {
   "cell_type": "code",
   "execution_count": 6,
   "id": "652d9659",
   "metadata": {
    "_cell_guid": "2ee32b23-f339-487f-add7-22e377e978f5",
    "_uuid": "2459b960-37e2-4e7a-bdea-03f63d2f5f55",
    "collapsed": false,
    "execution": {
     "iopub.execute_input": "2025-09-21T21:36:17.979780Z",
     "iopub.status.busy": "2025-09-21T21:36:17.979509Z",
     "iopub.status.idle": "2025-09-21T21:36:18.078622Z",
     "shell.execute_reply": "2025-09-21T21:36:18.078051Z"
    },
    "jupyter": {
     "outputs_hidden": false
    },
    "papermill": {
     "duration": 0.103912,
     "end_time": "2025-09-21T21:36:18.080101",
     "exception": false,
     "start_time": "2025-09-21T21:36:17.976189",
     "status": "completed"
    },
    "tags": []
   },
   "outputs": [],
   "source": [
    "from tensorflow.keras.preprocessing.image import ImageDataGenerator\n",
    "\n",
    "datagen = ImageDataGenerator(\n",
    "    featurewise_center = False,\n",
    "    samplewise_center = False,\n",
    "    featurewise_std_normalization = False,\n",
    "    samplewise_std_normalization = False,\n",
    "    zca_whitening = False,\n",
    "    rotation_range = 13,\n",
    "    zoom_range = 0.1,\n",
    "    width_shift_range = 0.1,\n",
    "    height_shift_range = 0.1,\n",
    "    horizontal_flip = False,\n",
    "    vertical_flip = False,\n",
    ")\n",
    "\n",
    "train_gen = datagen.flow(X_train, y_train)"
   ]
  },
  {
   "cell_type": "code",
   "execution_count": 7,
   "id": "c67d80c3",
   "metadata": {
    "_cell_guid": "7c0c5d85-72ca-4f45-96a3-6808fa37d671",
    "_uuid": "2c25eb61-4dd8-4934-8471-d95513bf2fc7",
    "collapsed": false,
    "execution": {
     "iopub.execute_input": "2025-09-21T21:36:18.086641Z",
     "iopub.status.busy": "2025-09-21T21:36:18.086428Z",
     "iopub.status.idle": "2025-09-21T21:36:18.092196Z",
     "shell.execute_reply": "2025-09-21T21:36:18.091680Z"
    },
    "jupyter": {
     "outputs_hidden": false
    },
    "papermill": {
     "duration": 0.010099,
     "end_time": "2025-09-21T21:36:18.093271",
     "exception": false,
     "start_time": "2025-09-21T21:36:18.083172",
     "status": "completed"
    },
    "tags": []
   },
   "outputs": [],
   "source": [
    "class ResidualUnit(keras.layers.Layer):\n",
    "    def __init__(self, filters, strides = 1, activation = keras.activations.relu, **kwargs):\n",
    "        super().__init__(**kwargs)\n",
    "        self.filters = filters\n",
    "        self.strides = strides\n",
    "        self.activation = activation\n",
    "        self.main_layer = [\n",
    "            keras.layers.Conv2D(\n",
    "                filters, 3, strides = strides, padding = \"same\", use_bias = False\n",
    "            ),\n",
    "            keras.layers.BatchNormalization(),\n",
    "            keras.layers.Activation(\"relu\"),\n",
    "            keras.layers.Conv2D(filters, 3, strides = 1, padding = \"same\", use_bias = False),\n",
    "            keras.layers.BatchNormalization(),\n",
    "        ]\n",
    "        self.skip_layers = []\n",
    "        if strides > 1:\n",
    "            self.skip_layers = [\n",
    "                keras.layers.Conv2D(\n",
    "                    filters, 1, strides = strides, padding = \"same\", use_bias = False\n",
    "                ),\n",
    "                keras.layers.BatchNormalization(),\n",
    "            ]\n",
    "\n",
    "    def call(self, inputs):\n",
    "        Z = inputs\n",
    "        for layer in self.main_layer:\n",
    "            Z = layer(Z)\n",
    "        skip_Z = inputs\n",
    "        for layer in self.skip_layers:\n",
    "            skip_Z = layer(skip_Z)\n",
    "        return self.activation(Z + skip_Z)"
   ]
  },
  {
   "cell_type": "code",
   "execution_count": 8,
   "id": "d79073af",
   "metadata": {
    "_cell_guid": "22567478-a6a3-4472-a4df-ff0885996704",
    "_uuid": "c2ef5b6a-e3be-4d92-b906-16b2c26c506c",
    "collapsed": false,
    "execution": {
     "iopub.execute_input": "2025-09-21T21:36:18.099162Z",
     "iopub.status.busy": "2025-09-21T21:36:18.098956Z",
     "iopub.status.idle": "2025-09-21T21:36:19.908833Z",
     "shell.execute_reply": "2025-09-21T21:36:19.908243Z"
    },
    "jupyter": {
     "outputs_hidden": false
    },
    "papermill": {
     "duration": 1.81433,
     "end_time": "2025-09-21T21:36:19.910229",
     "exception": false,
     "start_time": "2025-09-21T21:36:18.095899",
     "status": "completed"
    },
    "tags": []
   },
   "outputs": [
    {
     "name": "stderr",
     "output_type": "stream",
     "text": [
      "I0000 00:00:1758490578.345377      19 gpu_device.cc:2022] Created device /job:localhost/replica:0/task:0/device:GPU:0 with 13942 MB memory:  -> device: 0, name: Tesla T4, pci bus id: 0000:00:04.0, compute capability: 7.5\n",
      "I0000 00:00:1758490578.345999      19 gpu_device.cc:2022] Created device /job:localhost/replica:0/task:0/device:GPU:1 with 13942 MB memory:  -> device: 1, name: Tesla T4, pci bus id: 0000:00:05.0, compute capability: 7.5\n"
     ]
    }
   ],
   "source": [
    "model = Sequential()\n",
    "\n",
    "model.add(\n",
    "    Conv2D(\n",
    "        filters = 128,\n",
    "        kernel_size = (3, 3),\n",
    "        padding = \"Same\",\n",
    "        activation = \"relu\",\n",
    "        input_shape = (28, 28, 1),\n",
    "    )\n",
    ")\n",
    "model.add(BatchNormalization())\n",
    "model.add(Dropout(0.25))\n",
    "\n",
    "model.add(\n",
    "    Conv2D(\n",
    "        filters = 128,\n",
    "        kernel_size = (3, 3),\n",
    "        padding = \"Same\",\n",
    "        activation = \"relu\",\n",
    "        input_shape = (28, 28, 1),\n",
    "    )\n",
    ")\n",
    "model.add(BatchNormalization())\n",
    "model.add(MaxPool2D(pool_size = (2, 2)))\n",
    "model.add(Dropout(0.25))\n",
    "\n",
    "model.add(Conv2D(filters = 64, kernel_size = (5, 5), padding = \"Same\", activation = \"relu\"))\n",
    "model.add(BatchNormalization())\n",
    "model.add(MaxPool2D(pool_size = (2, 2)))\n",
    "model.add(Dropout(0.25))\n",
    "\n",
    "model.add(Conv2D(filters = 64, kernel_size = (5, 5), padding = \"Same\", activation = \"relu\"))\n",
    "model.add(BatchNormalization())\n",
    "model.add(MaxPool2D(pool_size = (2, 2)))\n",
    "model.add(Dropout(0.20))\n",
    "\n",
    "model.add(Conv2D(filters = 64, kernel_size = (3, 3), padding = \"Same\", activation = \"relu\"))\n",
    "model.add(BatchNormalization())\n",
    "model.add(MaxPool2D(pool_size = (2, 2)))\n",
    "model.add(Dropout(0.20))\n",
    "\n",
    "model.add(Flatten())\n",
    "model.add(Dense(256, activation = \"relu\"))\n",
    "model.add(BatchNormalization())\n",
    "model.add(Dropout(0.20))\n",
    "\n",
    "model.add(Dense(10, activation = \"softmax\"))"
   ]
  },
  {
   "cell_type": "code",
   "execution_count": 9,
   "id": "57f38cb3",
   "metadata": {
    "_cell_guid": "1b6d2abf-a642-4d7c-a6b8-85704046cdda",
    "_uuid": "a22235ad-3e7b-43a4-9253-54f95e92b423",
    "collapsed": false,
    "execution": {
     "iopub.execute_input": "2025-09-21T21:36:19.916774Z",
     "iopub.status.busy": "2025-09-21T21:36:19.916544Z",
     "iopub.status.idle": "2025-09-21T21:36:19.927689Z",
     "shell.execute_reply": "2025-09-21T21:36:19.927196Z"
    },
    "jupyter": {
     "outputs_hidden": false
    },
    "papermill": {
     "duration": 0.015462,
     "end_time": "2025-09-21T21:36:19.928678",
     "exception": false,
     "start_time": "2025-09-21T21:36:19.913216",
     "status": "completed"
    },
    "tags": []
   },
   "outputs": [],
   "source": [
    "optimizer = RMSprop(learning_rate = 0.001, rho = 0.9, epsilon = 1e-08, decay = 0.0)\n",
    "model.compile(\n",
    "    optimizer = optimizer, loss = \"sparse_categorical_crossentropy\", metrics = [\"accuracy\"]\n",
    ")\n",
    "early_stopping = keras.callbacks.EarlyStopping(patience = 12)"
   ]
  },
  {
   "cell_type": "code",
   "execution_count": 10,
   "id": "ebb2274a",
   "metadata": {
    "_cell_guid": "0a7e31ac-0aa1-48e5-8845-f47c47fc93d7",
    "_uuid": "8e341d42-2d24-4a30-95cf-219f20afffda",
    "collapsed": false,
    "execution": {
     "iopub.execute_input": "2025-09-21T21:36:19.934623Z",
     "iopub.status.busy": "2025-09-21T21:36:19.934424Z",
     "iopub.status.idle": "2025-09-21T21:36:19.937632Z",
     "shell.execute_reply": "2025-09-21T21:36:19.937128Z"
    },
    "jupyter": {
     "outputs_hidden": false
    },
    "papermill": {
     "duration": 0.007307,
     "end_time": "2025-09-21T21:36:19.938645",
     "exception": false,
     "start_time": "2025-09-21T21:36:19.931338",
     "status": "completed"
    },
    "tags": []
   },
   "outputs": [],
   "source": [
    "scheduler = ReduceLROnPlateau(\n",
    "    monitor = \"val_acc\", patience = 3, verbose = 1, factor = 0.5, min_lr = 0.00001\n",
    ")"
   ]
  },
  {
   "cell_type": "code",
   "execution_count": 11,
   "id": "7d4f661f",
   "metadata": {
    "_cell_guid": "48de6929-8ba9-4578-908b-d4e50d4b3458",
    "_uuid": "9533d500-9af4-4a5b-af0f-6cc23d355775",
    "collapsed": false,
    "execution": {
     "iopub.execute_input": "2025-09-21T21:36:19.945526Z",
     "iopub.status.busy": "2025-09-21T21:36:19.945336Z",
     "iopub.status.idle": "2025-09-21T21:40:45.473503Z",
     "shell.execute_reply": "2025-09-21T21:40:45.472732Z"
    },
    "jupyter": {
     "outputs_hidden": false
    },
    "papermill": {
     "duration": 265.532727,
     "end_time": "2025-09-21T21:40:45.474949",
     "exception": false,
     "start_time": "2025-09-21T21:36:19.942222",
     "status": "completed"
    },
    "tags": []
   },
   "outputs": [
    {
     "name": "stdout",
     "output_type": "stream",
     "text": [
      "Epoch 1/200\n"
     ]
    },
    {
     "name": "stderr",
     "output_type": "stream",
     "text": [
      "WARNING: All log messages before absl::InitializeLog() is called are written to STDERR\n",
      "I0000 00:00:1758490584.358685      63 service.cc:148] XLA service 0x7a0e740080c0 initialized for platform CUDA (this does not guarantee that XLA will be used). Devices:\n",
      "I0000 00:00:1758490584.359621      63 service.cc:156]   StreamExecutor device (0): Tesla T4, Compute Capability 7.5\n",
      "I0000 00:00:1758490584.359648      63 service.cc:156]   StreamExecutor device (1): Tesla T4, Compute Capability 7.5\n",
      "I0000 00:00:1758490584.861934      63 cuda_dnn.cc:529] Loaded cuDNN version 90300\n"
     ]
    },
    {
     "name": "stdout",
     "output_type": "stream",
     "text": [
      "\u001b[1m  14/1050\u001b[0m \u001b[37m━━━━━━━━━━━━━━━━━━━━\u001b[0m \u001b[1m13s\u001b[0m 13ms/step - accuracy: 0.1676 - loss: 2.7698"
     ]
    },
    {
     "name": "stderr",
     "output_type": "stream",
     "text": [
      "I0000 00:00:1758490591.554575      63 device_compiler.h:188] Compiled cluster using XLA!  This line is logged at most once for the lifetime of the process.\n"
     ]
    },
    {
     "name": "stdout",
     "output_type": "stream",
     "text": [
      "\u001b[1m1050/1050\u001b[0m \u001b[32m━━━━━━━━━━━━━━━━━━━━\u001b[0m\u001b[37m\u001b[0m \u001b[1m24s\u001b[0m 12ms/step - accuracy: 0.8186 - loss: 0.5739 - val_accuracy: 0.9820 - val_loss: 0.0641 - learning_rate: 0.0010\n",
      "Epoch 2/200\n",
      "\u001b[1m1050/1050\u001b[0m \u001b[32m━━━━━━━━━━━━━━━━━━━━\u001b[0m\u001b[37m\u001b[0m \u001b[1m11s\u001b[0m 10ms/step - accuracy: 0.9730 - loss: 0.0873 - val_accuracy: 0.9865 - val_loss: 0.0435 - learning_rate: 0.0010\n",
      "Epoch 3/200\n",
      "\u001b[1m1050/1050\u001b[0m \u001b[32m━━━━━━━━━━━━━━━━━━━━\u001b[0m\u001b[37m\u001b[0m \u001b[1m11s\u001b[0m 10ms/step - accuracy: 0.9807 - loss: 0.0688 - val_accuracy: 0.9877 - val_loss: 0.0381 - learning_rate: 0.0010\n",
      "Epoch 4/200\n",
      "\u001b[1m1050/1050\u001b[0m \u001b[32m━━━━━━━━━━━━━━━━━━━━\u001b[0m\u001b[37m\u001b[0m \u001b[1m11s\u001b[0m 10ms/step - accuracy: 0.9848 - loss: 0.0556 - val_accuracy: 0.9898 - val_loss: 0.0368 - learning_rate: 0.0010\n",
      "Epoch 5/200\n",
      "\u001b[1m1050/1050\u001b[0m \u001b[32m━━━━━━━━━━━━━━━━━━━━\u001b[0m\u001b[37m\u001b[0m \u001b[1m11s\u001b[0m 10ms/step - accuracy: 0.9882 - loss: 0.0421 - val_accuracy: 0.9876 - val_loss: 0.0486 - learning_rate: 0.0010\n",
      "Epoch 6/200\n",
      "\u001b[1m1050/1050\u001b[0m \u001b[32m━━━━━━━━━━━━━━━━━━━━\u001b[0m\u001b[37m\u001b[0m \u001b[1m11s\u001b[0m 10ms/step - accuracy: 0.9901 - loss: 0.0382 - val_accuracy: 0.9925 - val_loss: 0.0303 - learning_rate: 0.0010\n",
      "Epoch 7/200\n",
      "\u001b[1m1050/1050\u001b[0m \u001b[32m━━━━━━━━━━━━━━━━━━━━\u001b[0m\u001b[37m\u001b[0m \u001b[1m11s\u001b[0m 10ms/step - accuracy: 0.9896 - loss: 0.0369 - val_accuracy: 0.9913 - val_loss: 0.0298 - learning_rate: 0.0010\n",
      "Epoch 8/200\n",
      "\u001b[1m1050/1050\u001b[0m \u001b[32m━━━━━━━━━━━━━━━━━━━━\u001b[0m\u001b[37m\u001b[0m \u001b[1m11s\u001b[0m 10ms/step - accuracy: 0.9912 - loss: 0.0348 - val_accuracy: 0.9923 - val_loss: 0.0272 - learning_rate: 0.0010\n",
      "Epoch 9/200\n",
      "\u001b[1m1050/1050\u001b[0m \u001b[32m━━━━━━━━━━━━━━━━━━━━\u001b[0m\u001b[37m\u001b[0m \u001b[1m11s\u001b[0m 10ms/step - accuracy: 0.9921 - loss: 0.0303 - val_accuracy: 0.9943 - val_loss: 0.0234 - learning_rate: 0.0010\n",
      "Epoch 10/200\n",
      "\u001b[1m1050/1050\u001b[0m \u001b[32m━━━━━━━━━━━━━━━━━━━━\u001b[0m\u001b[37m\u001b[0m \u001b[1m11s\u001b[0m 11ms/step - accuracy: 0.9925 - loss: 0.0275 - val_accuracy: 0.9944 - val_loss: 0.0232 - learning_rate: 0.0010\n",
      "Epoch 11/200\n",
      "\u001b[1m1050/1050\u001b[0m \u001b[32m━━━━━━━━━━━━━━━━━━━━\u001b[0m\u001b[37m\u001b[0m \u001b[1m11s\u001b[0m 11ms/step - accuracy: 0.9933 - loss: 0.0246 - val_accuracy: 0.9948 - val_loss: 0.0213 - learning_rate: 0.0010\n",
      "Epoch 12/200\n",
      "\u001b[1m1050/1050\u001b[0m \u001b[32m━━━━━━━━━━━━━━━━━━━━\u001b[0m\u001b[37m\u001b[0m \u001b[1m11s\u001b[0m 10ms/step - accuracy: 0.9938 - loss: 0.0252 - val_accuracy: 0.9936 - val_loss: 0.0232 - learning_rate: 0.0010\n",
      "Epoch 13/200\n",
      "\u001b[1m1050/1050\u001b[0m \u001b[32m━━━━━━━━━━━━━━━━━━━━\u001b[0m\u001b[37m\u001b[0m \u001b[1m11s\u001b[0m 10ms/step - accuracy: 0.9943 - loss: 0.0233 - val_accuracy: 0.9939 - val_loss: 0.0236 - learning_rate: 0.0010\n",
      "Epoch 14/200\n",
      "\u001b[1m1050/1050\u001b[0m \u001b[32m━━━━━━━━━━━━━━━━━━━━\u001b[0m\u001b[37m\u001b[0m \u001b[1m11s\u001b[0m 10ms/step - accuracy: 0.9930 - loss: 0.0248 - val_accuracy: 0.9942 - val_loss: 0.0245 - learning_rate: 0.0010\n",
      "Epoch 15/200\n",
      "\u001b[1m1050/1050\u001b[0m \u001b[32m━━━━━━━━━━━━━━━━━━━━\u001b[0m\u001b[37m\u001b[0m \u001b[1m11s\u001b[0m 10ms/step - accuracy: 0.9953 - loss: 0.0182 - val_accuracy: 0.9937 - val_loss: 0.0281 - learning_rate: 0.0010\n",
      "Epoch 16/200\n",
      "\u001b[1m1050/1050\u001b[0m \u001b[32m━━━━━━━━━━━━━━━━━━━━\u001b[0m\u001b[37m\u001b[0m \u001b[1m11s\u001b[0m 10ms/step - accuracy: 0.9944 - loss: 0.0204 - val_accuracy: 0.9949 - val_loss: 0.0235 - learning_rate: 0.0010\n",
      "Epoch 17/200\n",
      "\u001b[1m1050/1050\u001b[0m \u001b[32m━━━━━━━━━━━━━━━━━━━━\u001b[0m\u001b[37m\u001b[0m \u001b[1m11s\u001b[0m 10ms/step - accuracy: 0.9955 - loss: 0.0169 - val_accuracy: 0.9936 - val_loss: 0.0314 - learning_rate: 0.0010\n",
      "Epoch 18/200\n",
      "\u001b[1m1050/1050\u001b[0m \u001b[32m━━━━━━━━━━━━━━━━━━━━\u001b[0m\u001b[37m\u001b[0m \u001b[1m11s\u001b[0m 10ms/step - accuracy: 0.9959 - loss: 0.0137 - val_accuracy: 0.9939 - val_loss: 0.0324 - learning_rate: 0.0010\n",
      "Epoch 19/200\n",
      "\u001b[1m1050/1050\u001b[0m \u001b[32m━━━━━━━━━━━━━━━━━━━━\u001b[0m\u001b[37m\u001b[0m \u001b[1m11s\u001b[0m 10ms/step - accuracy: 0.9957 - loss: 0.0173 - val_accuracy: 0.9942 - val_loss: 0.0277 - learning_rate: 0.0010\n",
      "Epoch 20/200\n",
      "\u001b[1m1050/1050\u001b[0m \u001b[32m━━━━━━━━━━━━━━━━━━━━\u001b[0m\u001b[37m\u001b[0m \u001b[1m11s\u001b[0m 10ms/step - accuracy: 0.9964 - loss: 0.0169 - val_accuracy: 0.9940 - val_loss: 0.0303 - learning_rate: 0.0010\n",
      "Epoch 21/200\n",
      "\u001b[1m1050/1050\u001b[0m \u001b[32m━━━━━━━━━━━━━━━━━━━━\u001b[0m\u001b[37m\u001b[0m \u001b[1m11s\u001b[0m 10ms/step - accuracy: 0.9954 - loss: 0.0131 - val_accuracy: 0.9937 - val_loss: 0.0330 - learning_rate: 0.0010\n",
      "Epoch 22/200\n",
      "\u001b[1m1050/1050\u001b[0m \u001b[32m━━━━━━━━━━━━━━━━━━━━\u001b[0m\u001b[37m\u001b[0m \u001b[1m11s\u001b[0m 10ms/step - accuracy: 0.9960 - loss: 0.0159 - val_accuracy: 0.9936 - val_loss: 0.0291 - learning_rate: 0.0010\n",
      "Epoch 23/200\n",
      "\u001b[1m1050/1050\u001b[0m \u001b[32m━━━━━━━━━━━━━━━━━━━━\u001b[0m\u001b[37m\u001b[0m \u001b[1m11s\u001b[0m 11ms/step - accuracy: 0.9965 - loss: 0.0131 - val_accuracy: 0.9952 - val_loss: 0.0269 - learning_rate: 0.0010\n"
     ]
    }
   ],
   "source": [
    "history = model.fit(\n",
    "    X_train,\n",
    "    y_train,\n",
    "    epochs = 200,\n",
    "    validation_data = (X_test, y_test),\n",
    "    callbacks = [early_stopping, scheduler],\n",
    ")"
   ]
  },
  {
   "cell_type": "code",
   "execution_count": 12,
   "id": "9371ef05",
   "metadata": {
    "_cell_guid": "4617d5b6-9ea2-4e89-9886-81c97acc90d0",
    "_uuid": "c160939e-2c20-4458-9552-3a193cf42606",
    "collapsed": false,
    "execution": {
     "iopub.execute_input": "2025-09-21T21:40:45.810531Z",
     "iopub.status.busy": "2025-09-21T21:40:45.810266Z",
     "iopub.status.idle": "2025-09-21T21:40:50.218546Z",
     "shell.execute_reply": "2025-09-21T21:40:50.217599Z"
    },
    "jupyter": {
     "outputs_hidden": false
    },
    "papermill": {
     "duration": 4.576686,
     "end_time": "2025-09-21T21:40:50.219903",
     "exception": false,
     "start_time": "2025-09-21T21:40:45.643217",
     "status": "completed"
    },
    "tags": []
   },
   "outputs": [
    {
     "name": "stdout",
     "output_type": "stream",
     "text": [
      "\u001b[1m875/875\u001b[0m \u001b[32m━━━━━━━━━━━━━━━━━━━━\u001b[0m\u001b[37m\u001b[0m \u001b[1m4s\u001b[0m 3ms/step\n",
      "[2 0 9 ... 3 9 2]\n"
     ]
    }
   ],
   "source": [
    "test_df = test_df.values.reshape(-1, 28, 28) / 255.0\n",
    "predictions = model.predict(test_df)\n",
    "predicted_labels = np.argmax(predictions, axis = 1)\n",
    "print(predicted_labels)"
   ]
  },
  {
   "cell_type": "code",
   "execution_count": 13,
   "id": "f65ac51a",
   "metadata": {
    "_cell_guid": "413e6769-4501-4c66-ab0f-e06f8319a8f5",
    "_uuid": "b0f97475-5dc3-4f92-a6c5-16c6ac8900d6",
    "collapsed": false,
    "execution": {
     "iopub.execute_input": "2025-09-21T21:40:50.555738Z",
     "iopub.status.busy": "2025-09-21T21:40:50.555458Z",
     "iopub.status.idle": "2025-09-21T21:40:50.583265Z",
     "shell.execute_reply": "2025-09-21T21:40:50.582638Z"
    },
    "jupyter": {
     "outputs_hidden": false
    },
    "papermill": {
     "duration": 0.194835,
     "end_time": "2025-09-21T21:40:50.584333",
     "exception": false,
     "start_time": "2025-09-21T21:40:50.389498",
     "status": "completed"
    },
    "tags": []
   },
   "outputs": [
    {
     "name": "stdout",
     "output_type": "stream",
     "text": [
      "Saving submission.csv...\n",
      "submission.csv saved!\n"
     ]
    }
   ],
   "source": [
    "submission = pd.DataFrame(\n",
    "    {\"ImageId\": np.arange(1, len(predictions) + 1), \"Label\": predicted_labels}\n",
    ")\n",
    "\n",
    "print(\"Saving submission.csv...\")\n",
    "submission.to_csv(\"submission.csv\", index = False)\n",
    "print(\"submission.csv saved!\")"
   ]
  }
 ],
 "metadata": {
  "kaggle": {
   "accelerator": "nvidiaTeslaT4",
   "dataSources": [
    {
     "databundleVersionId": 861823,
     "sourceId": 3004,
     "sourceType": "competition"
    }
   ],
   "dockerImageVersionId": 31089,
   "isGpuEnabled": true,
   "isInternetEnabled": true,
   "language": "python",
   "sourceType": "notebook"
  },
  "kernelspec": {
   "display_name": "Python 3",
   "language": "python",
   "name": "python3"
  },
  "language_info": {
   "codemirror_mode": {
    "name": "ipython",
    "version": 3
   },
   "file_extension": ".py",
   "mimetype": "text/x-python",
   "name": "python",
   "nbconvert_exporter": "python",
   "pygments_lexer": "ipython3",
   "version": "3.11.13"
  },
  "papermill": {
   "default_parameters": {},
   "duration": 303.549248,
   "end_time": "2025-09-21T21:40:53.949372",
   "environment_variables": {},
   "exception": null,
   "input_path": "__notebook__.ipynb",
   "output_path": "__notebook__.ipynb",
   "parameters": {},
   "start_time": "2025-09-21T21:35:50.400124",
   "version": "2.6.0"
  }
 },
 "nbformat": 4,
 "nbformat_minor": 5
}
